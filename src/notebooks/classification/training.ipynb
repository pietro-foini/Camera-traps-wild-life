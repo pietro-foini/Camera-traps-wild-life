{
 "cells": [
  {
   "cell_type": "code",
   "execution_count": null,
   "id": "8845d3c3",
   "metadata": {
    "id": "8845d3c3"
   },
   "outputs": [],
   "source": [
    "import pathlib\n",
    "import pickle\n",
    "\n",
    "import matplotlib.pyplot as plt\n",
    "import pandas as pd\n",
    "import numpy as np\n",
    "from sklearn.utils import resample\n",
    "from sklearn.model_selection import train_test_split\n",
    "import tensorflow as tf\n",
    "from tensorflow import keras\n",
    "from tensorflow.keras import layers\n",
    "from tensorflow.keras.models import Model\n",
    "from tensorflow.keras.applications import EfficientNetB0\n",
    "from keras_preprocessing.image import ImageDataGenerator\n",
    "from keras.callbacks import LearningRateScheduler, ModelCheckpoint, TensorBoard\n",
    "from keras.engine import base_layer\n",
    "\n",
    "from augmentation import RandomColorDistortion\n",
    "from callbacks import scheduler, TimeStopping"
   ]
  },
  {
   "cell_type": "code",
   "execution_count": null,
   "id": "9deb2d8d",
   "metadata": {
    "id": "9deb2d8d"
   },
   "outputs": [],
   "source": [
    "plt.rcParams[\"figure.dpi\"] = 200"
   ]
  },
  {
   "cell_type": "code",
   "execution_count": null,
   "id": "396a0c53",
   "metadata": {},
   "outputs": [],
   "source": [
    "DATASET_PATH = \"../../dataset/\""
   ]
  },
  {
   "cell_type": "code",
   "execution_count": null,
   "id": "10616040",
   "metadata": {
    "id": "10616040"
   },
   "outputs": [],
   "source": [
    "IMAGE_SIZE = (128, 128)\n",
    "COLOR_MODE = \"rgb\"\n",
    "BATCH_SIZE = 32"
   ]
  },
  {
   "cell_type": "code",
   "execution_count": null,
   "id": "e77bc48c",
   "metadata": {},
   "outputs": [],
   "source": [
    "data = []\n",
    "for file in pathlib.Path(DATASET_PATH).glob(\"*/*\"):\n",
    "    data.append({\"filename\": file.resolve().as_posix(), \"label\": file.resolve().parent.name})"
   ]
  },
  {
   "cell_type": "code",
   "execution_count": null,
   "id": "8aa8666b",
   "metadata": {},
   "outputs": [],
   "source": [
    "df = pd.DataFrame(data)\n",
    "df.head()"
   ]
  },
  {
   "cell_type": "code",
   "execution_count": null,
   "id": "be2af4bc",
   "metadata": {},
   "outputs": [],
   "source": [
    "df[[\"dataset\", \"time\"]] = df[\"filename\"].str.split(\"/\").str[-1].str.extract(r\"^([^_]+)_[^_]+_([^_]+)\")\n",
    "df[\"time\"].unique()"
   ]
  },
  {
   "cell_type": "code",
   "execution_count": null,
   "id": "eb22873d",
   "metadata": {},
   "outputs": [],
   "source": [
    "df.head()"
   ]
  },
  {
   "cell_type": "code",
   "execution_count": null,
   "id": "c51e5619",
   "metadata": {},
   "outputs": [],
   "source": [
    "df.groupby(\"label\")[\"filename\"].nunique()"
   ]
  },
  {
   "cell_type": "code",
   "execution_count": null,
   "id": "a2ca22e0",
   "metadata": {
    "scrolled": true
   },
   "outputs": [],
   "source": [
    "df.groupby([\"label\", \"time\"]).agg(count = (\"filename\", \"count\"))"
   ]
  },
  {
   "cell_type": "code",
   "execution_count": null,
   "id": "1923e478",
   "metadata": {},
   "outputs": [],
   "source": [
    "#df.query(\"label != 'horse'\", inplace = True)\n",
    "df.loc[df[\"label\"].isin([\"chicken\", \"horse\"]), \"label\"] = \"None_of_the_above\""
   ]
  },
  {
   "cell_type": "code",
   "execution_count": null,
   "id": "e2a45a4c",
   "metadata": {},
   "outputs": [],
   "source": [
    "df.groupby(\"label\")[\"filename\"].nunique()"
   ]
  },
  {
   "cell_type": "code",
   "execution_count": null,
   "id": "80031f0f",
   "metadata": {},
   "outputs": [],
   "source": [
    "df_classes = df.query(\"label != 'None_of_the_above'\")"
   ]
  },
  {
   "cell_type": "code",
   "execution_count": null,
   "id": "23f41d4d",
   "metadata": {},
   "outputs": [],
   "source": [
    "MIN_COUNT = df_classes.groupby(\"label\")[\"filename\"].nunique().min()  # 3000\n",
    "MIN_COUNT"
   ]
  },
  {
   "cell_type": "code",
   "execution_count": null,
   "id": "705f04e1",
   "metadata": {},
   "outputs": [],
   "source": [
    "def balance_dataset(x):\n",
    "    return resample(x, replace = False, n_samples = min(MIN_COUNT, len(x)), random_state = 42, stratify = x[[\"dataset\", \"time\"]])\n",
    "\n",
    "df_balanced = df_classes.groupby(\"label\", group_keys = False).apply(balance_dataset)\n",
    "df_balanced = df_balanced.sample(frac = 1, random_state = 42)\n",
    "df_balanced.reset_index(drop = True, inplace = True)\n",
    "df_balanced.head()"
   ]
  },
  {
   "cell_type": "code",
   "execution_count": null,
   "id": "636f0237",
   "metadata": {},
   "outputs": [],
   "source": [
    "df_balanced = pd.concat([df_balanced, df.query(\"label == 'None_of_the_above'\")], axis = 0, ignore_index = True)"
   ]
  },
  {
   "cell_type": "code",
   "execution_count": null,
   "id": "ee1ebd4f",
   "metadata": {},
   "outputs": [],
   "source": [
    "df_balanced.groupby(\"label\")[\"filename\"].nunique()"
   ]
  },
  {
   "cell_type": "code",
   "execution_count": null,
   "id": "384604ad",
   "metadata": {
    "scrolled": true
   },
   "outputs": [],
   "source": [
    "df_balanced.groupby([\"label\", \"time\", \"dataset\"]).count()"
   ]
  },
  {
   "cell_type": "code",
   "execution_count": null,
   "id": "d7e3e10f",
   "metadata": {},
   "outputs": [],
   "source": [
    "df_train, df_valid = train_test_split(df_balanced, \n",
    "                                      test_size = 0.2, \n",
    "                                      shuffle = True, \n",
    "                                      random_state = 42, \n",
    "                                      stratify = df_balanced[[\"label\", \"dataset\", \"time\"]])"
   ]
  },
  {
   "cell_type": "code",
   "execution_count": null,
   "id": "2c2d1514",
   "metadata": {
    "scrolled": true
   },
   "outputs": [],
   "source": [
    "df_valid.groupby([\"label\", \"time\", \"dataset\"]).count()"
   ]
  },
  {
   "cell_type": "code",
   "execution_count": null,
   "id": "99ddfd8c",
   "metadata": {},
   "outputs": [],
   "source": [
    "df_train.groupby(\"label\")[\"filename\"].nunique()"
   ]
  },
  {
   "cell_type": "code",
   "execution_count": null,
   "id": "f8a2cf56",
   "metadata": {},
   "outputs": [],
   "source": [
    "df_valid.groupby(\"label\")[\"filename\"].nunique()"
   ]
  },
  {
   "cell_type": "code",
   "execution_count": null,
   "id": "69b59925",
   "metadata": {},
   "outputs": [],
   "source": [
    "datagen = ImageDataGenerator()\n",
    "valid_datagen = ImageDataGenerator()\n",
    "\n",
    "train_generator = datagen.flow_from_dataframe(dataframe = df_train,\n",
    "                                              directory = None, \n",
    "                                              x_col = \"filename\",\n",
    "                                              y_col = \"label\",\n",
    "                                              batch_size = BATCH_SIZE,\n",
    "                                              seed = 42,\n",
    "                                              shuffle = True,\n",
    "                                              class_mode = \"categorical\",\n",
    "                                              target_size = IMAGE_SIZE)\n",
    "\n",
    "valid_generator = valid_datagen.flow_from_dataframe(dataframe = df_valid,\n",
    "                                                    directory = None, \n",
    "                                                    x_col = \"filename\",\n",
    "                                                    y_col = \"label\",\n",
    "                                                    batch_size = BATCH_SIZE,\n",
    "                                                    seed = 42,\n",
    "                                                    shuffle = True,\n",
    "                                                    class_mode = \"categorical\",\n",
    "                                                    target_size = IMAGE_SIZE)"
   ]
  },
  {
   "cell_type": "code",
   "execution_count": null,
   "id": "6071b5b5",
   "metadata": {},
   "outputs": [],
   "source": [
    "# Define labels ordered according to dataset storage.\n",
    "LABELS = list(train_generator.class_indices.keys())\n",
    "NUM_CLASSES = len(LABELS)"
   ]
  },
  {
   "cell_type": "code",
   "execution_count": null,
   "id": "51c405a6",
   "metadata": {},
   "outputs": [],
   "source": [
    "plt.figure(figsize = (10, 10))\n",
    "for i in range(6):\n",
    "    batch_index = 0\n",
    "    images, labels = next(train_generator)\n",
    "    preprocessed_image = images\n",
    "    ax = plt.subplot(3, 3, i + 1)\n",
    "    plt.imshow(preprocessed_image[batch_index].astype(\"uint8\"))\n",
    "    plt.title(np.array(LABELS)[labels[batch_index] == 1][0])\n",
    "    plt.tight_layout()\n",
    "    plt.axis(\"off\")"
   ]
  },
  {
   "cell_type": "code",
   "execution_count": null,
   "id": "a7cecd93",
   "metadata": {},
   "outputs": [],
   "source": [
    "# Data augmentation layers.\n",
    "data_augmentation = keras.Sequential([\n",
    "                                      #layers.RandomRotation(factor = (-0.1, 0.1), fill_mode = \"wrap\"),\n",
    "                                      #layers.RandomTranslation(height_factor = (-0.1, 0.1), width_factor = (-0.1, 0.1), fill_mode = \"wrap\"),\n",
    "                                      layers.RandomFlip(),\n",
    "                                      #RandomColorDistortion(brightness_max_delta = 0.2, \n",
    "                                      #                      saturation_delta = (0.5, 0.9),\n",
    "                                      #                      hue_max_delta = 0.2, \n",
    "                                      #                      contrast_delta = (0.5, 0.9)),\n",
    "                                     ], name = \"data_augmentation\")"
   ]
  },
  {
   "cell_type": "code",
   "execution_count": null,
   "id": "c1009dd9",
   "metadata": {},
   "outputs": [],
   "source": [
    "plt.figure(figsize = (10, 10))\n",
    "for i in range(6):\n",
    "    batch_index = 0\n",
    "    images, labels = next(train_generator)\n",
    "    preprocessed_image = images\n",
    "    augmented_images = data_augmentation(preprocessed_image)\n",
    "    ax = plt.subplot(3, 3, i + 1)\n",
    "    plt.imshow(augmented_images[batch_index].numpy().astype(\"uint8\"))\n",
    "    plt.title(np.array(LABELS)[labels[batch_index] == 1][0])\n",
    "    plt.tight_layout()\n",
    "    plt.axis(\"off\")"
   ]
  },
  {
   "cell_type": "code",
   "execution_count": null,
   "id": "1659f8d1",
   "metadata": {},
   "outputs": [],
   "source": [
    "def scheduler(epoch, lr):\n",
    "    \"\"\"Learning scheduler.\"\"\"\n",
    "    if epoch <= 200:\n",
    "        return 0.01\n",
    "    elif epoch > 200 and epoch <= 300:\n",
    "        return 0.001\n",
    "    else:\n",
    "        return 0.0001"
   ]
  },
  {
   "cell_type": "code",
   "execution_count": null,
   "id": "33533227",
   "metadata": {},
   "outputs": [],
   "source": [
    "def build_model(num_classes):\n",
    "    inputs = layers.Input(shape = (IMAGE_SIZE[0], IMAGE_SIZE[1], 3))\n",
    "    \n",
    "    inputs_augmented = data_augmentation(inputs)\n",
    "    \n",
    "    model = EfficientNetB0(include_top = False, input_tensor = inputs_augmented, weights = \"imagenet\")\n",
    "    \n",
    "    # Freeze the pretrained weights.\n",
    "    model.trainable = False\n",
    "\n",
    "    # Unfreeze the top layers while leaving BatchNorm layers frozen.\n",
    "    for layer in model.layers[-3:]:\n",
    "        if not isinstance(layer, tf.keras.layers.BatchNormalization):\n",
    "            layer.trainable = True\n",
    "\n",
    "    # Rebuild top.\n",
    "    x = layers.GlobalAveragePooling2D(name = \"avg_pool\")(model.output)\n",
    "    x = layers.BatchNormalization()(x)\n",
    "\n",
    "    top_dropout_rate = 0.5\n",
    "    x = layers.Dropout(top_dropout_rate, name = \"top_dropout\")(x)\n",
    "    outputs = layers.Dense(NUM_CLASSES, activation = \"softmax\", name = \"prediction\")(x)\n",
    "\n",
    "    # Compile.\n",
    "    model = tf.keras.Model(inputs, outputs, name = \"EfficientNet\")\n",
    "    optimizer = tf.keras.optimizers.Adam(learning_rate = 1e-2)\n",
    "    model.compile(optimizer = optimizer, loss = \"categorical_crossentropy\", metrics = [\"accuracy\"])\n",
    "    \n",
    "    return model"
   ]
  },
  {
   "cell_type": "code",
   "execution_count": null,
   "id": "35e77ada",
   "metadata": {},
   "outputs": [],
   "source": [
    "model = build_model(NUM_CLASSES)\n",
    "model.summary()"
   ]
  },
  {
   "cell_type": "code",
   "execution_count": null,
   "id": "38fc3eb5",
   "metadata": {
    "scrolled": true
   },
   "outputs": [],
   "source": [
    "epochs = 300\n",
    "\n",
    "lr_scheduler = LearningRateScheduler(scheduler)\n",
    "cp_callback = ModelCheckpoint(filepath = \"./checkpoints/weights.h5\",\n",
    "                              save_weights_only = True,\n",
    "                              save_best_only = True,\n",
    "                              verbose = 1)\n",
    "tb_callback = TensorBoard(\"./logs\")\n",
    "history = model.fit(train_generator, \n",
    "                    validation_data = valid_generator, \n",
    "                    epochs = epochs, \n",
    "                    validation_freq = 5,\n",
    "                    callbacks = [lr_scheduler, tb_callback])"
   ]
  },
  {
   "cell_type": "code",
   "execution_count": null,
   "id": "4f279ee2",
   "metadata": {
    "colab": {
     "base_uri": "https://localhost:8080/",
     "height": 775
    },
    "id": "4f279ee2",
    "outputId": "2bc2a61e-694b-45c7-9201-bafab648506d"
   },
   "outputs": [],
   "source": [
    "plt.plot(history.history[\"accuracy\"], label = \"accuracy\")\n",
    "plt.plot(history.history[\"val_accuracy\"], label = \"val_accuracy\")\n",
    "plt.xlabel(\"Epoch\")\n",
    "plt.ylabel(\"Accuracy\")\n",
    "plt.ylim([0, 1])\n",
    "plt.legend(loc = \"best\")"
   ]
  },
  {
   "cell_type": "code",
   "execution_count": null,
   "id": "28a25423",
   "metadata": {},
   "outputs": [],
   "source": [
    "model.save_weights(\"weights.h5\")"
   ]
  },
  {
   "cell_type": "code",
   "execution_count": null,
   "id": "24641d72",
   "metadata": {},
   "outputs": [],
   "source": [
    "with open(\"labels\", \"wb\") as fp:   \n",
    "    pickle.dump(LABELS, fp)"
   ]
  },
  {
   "cell_type": "code",
   "execution_count": null,
   "id": "0c483490",
   "metadata": {},
   "outputs": [],
   "source": [
    "with open(\"shape\", \"wb\") as fp:   \n",
    "    pickle.dump(IMAGE_SIZE, fp)"
   ]
  }
 ],
 "metadata": {
  "accelerator": "GPU",
  "colab": {
   "provenance": []
  },
  "kernelspec": {
   "display_name": "Python 3 (ipykernel)",
   "language": "python",
   "name": "python3"
  },
  "language_info": {
   "codemirror_mode": {
    "name": "ipython",
    "version": 3
   },
   "file_extension": ".py",
   "mimetype": "text/x-python",
   "name": "python",
   "nbconvert_exporter": "python",
   "pygments_lexer": "ipython3",
   "version": "3.9.13"
  }
 },
 "nbformat": 4,
 "nbformat_minor": 5
}
